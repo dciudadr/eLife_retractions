{
 "cells": [
  {
   "cell_type": "code",
   "execution_count": 1,
   "metadata": {},
   "outputs": [
    {
     "name": "stdout",
     "output_type": "stream",
     "text": [
      "-----------------------\n",
      "doi of a retraction note: 10.1083/jcb.20070205310112013r\n",
      "pmc: \t  \n",
      "pmid: \t  \n",
      "doi: \t 10.1083/jcb.20070205310112013r \n",
      "journal: \t  \n",
      "text: \t  \n",
      "references_dois: \t \n",
      "        Journal Title       ISSN      eISSN  Year Volume Issue Page  \\\n",
      "3005262   J Cell Biol  0021-9525  1540-8140  2013    203     2  373   \n",
      "\n",
      "                                    DOI       PMCID        PMID Manuscript Id  \\\n",
      "3005262  10.1083/jcb.20070205310112013r  PMC3812969  24165941.0           NaN   \n",
      "\n",
      "        Release Date  \n",
      "3005262         live  \n",
      "\n",
      " After getting pmc and journal. Before get_text_from_tar_file_using_pmc\n",
      "pmc: \t PMC3812969 \n",
      "pmid: \t  \n",
      "doi: \t 10.1083/jcb.20070205310112013r \n",
      "journal: \t J Cell Biol \n",
      "text: \t  \n",
      "references_dois: \t \n",
      "Checking:  /project/data/comm_use.I-N.xml.tar.gz\n",
      "Search total time =  0:01:55.754035\n",
      "Checking:  /project/data/non_comm_use.I-N.xml.tar.gz\n",
      "Article found:  J_Cell_Biol/PMC3812969.nxml\n",
      "Search total time =  0:02:36.018105\n",
      "\n",
      " After get_text_from_tar_file_using_pmc\n",
      "pmc: \t PMC3812969 \n",
      "pmid: \t  \n",
      "doi: \t 10.1083/jcb.20070205310112013r \n",
      "journal: \t J Cell Biol \n",
      "text: \t b'<!DOCTYPE article PUBLIC \"-//NLM//DTD JATS (Z39.96) Journal Archiving and Interchange DTD v1.0 20120' \n",
      "references_dois: \t \n",
      "\n",
      " After get_list_references_dois_from_text\n",
      "pmc: \t PMC3812969 \n",
      "pmid: \t  \n",
      "doi: \t 10.1083/jcb.20070205310112013r \n",
      "journal: \t J Cell Biol \n",
      "text: \t b'<!DOCTYPE article PUBLIC \"-//NLM//DTD JATS (Z39.96) Journal Archiving and Interchange DTD v1.0 20120' \n",
      "references_dois: \t ['10.1242/bio.20134671', '10.1242/bio.20136775']\n"
     ]
    }
   ],
   "source": [
    "import modules.Article_object as Article_object\n",
    "\n",
    "\n",
    "\"\"\"\n",
    "article_test = Article_object.Article_object()\n",
    "\n",
    "article_test.pmid = \"11250748\"\n",
    "\n",
    "#assert article_test.journal == \"Breast Cancer Res\"\n",
    "#assert article_test.pmc == \"PMC13902\"\n",
    "\n",
    "article_test.describe()\n",
    "\n",
    "article_test.get_pmc_and_journal_from_pmid()\n",
    "print(\"\\n After getting pmc and journal. Before get_text_from_tar_file_using_pmc\")\n",
    "article_test.describe()\n",
    "\n",
    "\n",
    "article_test.get_text_from_tar_file_using_pmc()\n",
    "print(\"\\n After get_text_from_tar_file_using_pmc\")\n",
    "article_test.describe()\n",
    "\"\"\"\n",
    "\n",
    "\n",
    "print(\"-----------------------\")\n",
    "\n",
    "\n",
    "\n",
    "article_test2 = Article_object.Article_object()\n",
    "\n",
    "print(\"doi of a retraction note: 10.1083/jcb.20070205310112013r\")\n",
    "article_test2.doi = \"10.1083/jcb.20070205310112013r\" #\"10.1242/bio.20134671\"\n",
    "\n",
    "article_test2.describe()\n",
    "\n",
    "article_test2.get_pmc_and_journal_from_doi()\n",
    "print(\"\\n After getting pmc and journal. Before get_text_from_tar_file_using_pmc\")\n",
    "article_test2.describe()\n",
    "\n",
    "\n",
    "article_test2.get_text_from_tar_file_using_pmc()\n",
    "print(\"\\n After get_text_from_tar_file_using_pmc\")\n",
    "article_test2.describe()\n",
    "\n",
    "\n",
    "article_test2.get_list_references_dois_from_text()\n",
    "print(\"\\n After get_list_references_dois_from_text\")\n",
    "article_test2.describe()\n",
    "\n",
    "\n",
    "\n"
   ]
  },
  {
   "cell_type": "code",
   "execution_count": 4,
   "metadata": {},
   "outputs": [
    {
     "data": {
      "text/plain": [
       "['10.1242/bio.20134671', '10.1242/bio.20136775']"
      ]
     },
     "execution_count": 4,
     "metadata": {},
     "output_type": "execute_result"
    }
   ],
   "source": [
    "article_test2.References_dois"
   ]
  },
  {
   "cell_type": "code",
   "execution_count": 5,
   "metadata": {},
   "outputs": [
    {
     "name": "stdout",
     "output_type": "stream",
     "text": [
      "PMC: \t PMC3812969 \n",
      "PMID: \t  \n",
      "DOI: \t 10.1083/jcb.20070205310112013r \n",
      "Journal: \t J Cell Biol \n",
      "Text: \t b'<!DOCTYPE article PUBLIC \"-//NLM//DTD JATS (Z39.96) Journal Archiving and Interchange DTD v1.0 20120' \n",
      "References_dois: \t \n"
     ]
    }
   ],
   "source": [
    "article_test2.describe()"
   ]
  },
  {
   "cell_type": "code",
   "execution_count": null,
   "metadata": {
    "collapsed": true
   },
   "outputs": [],
   "source": []
  },
  {
   "cell_type": "code",
   "execution_count": null,
   "metadata": {
    "collapsed": true
   },
   "outputs": [],
   "source": []
  }
 ],
 "metadata": {
  "kernelspec": {
   "display_name": "Python [conda env:Python3]",
   "language": "python",
   "name": "conda-env-Python3-py"
  },
  "language_info": {
   "codemirror_mode": {
    "name": "ipython",
    "version": 3
   },
   "file_extension": ".py",
   "mimetype": "text/x-python",
   "name": "python",
   "nbconvert_exporter": "python",
   "pygments_lexer": "ipython3",
   "version": "3.6.2"
  }
 },
 "nbformat": 4,
 "nbformat_minor": 2
}
