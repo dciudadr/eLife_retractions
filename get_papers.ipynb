{
 "cells": [
  {
   "cell_type": "code",
   "execution_count": 4,
   "metadata": {
    "collapsed": true
   },
   "outputs": [],
   "source": [
    "import sys\n",
    "import os\n",
    "import subprocess\n",
    "from bs4 import BeautifulSoup\n",
    "import glob\n",
    "\n",
    "import pandas as pd\n",
    "\n",
    "sys.path.insert(0, \"./modules\")\n",
    "import bs_preprocess"
   ]
  },
  {
   "cell_type": "markdown",
   "metadata": {},
   "source": [
    "# Configuration"
   ]
  },
  {
   "cell_type": "code",
   "execution_count": 5,
   "metadata": {
    "collapsed": true
   },
   "outputs": [],
   "source": [
    "data_path = 'data'\n",
    "FTP_PUBMED_papers = os.path.join(data_path, 'FTP_PUBMED_papers')\n",
    "\n",
    "# List of DOIs \n",
    "#DOI_list = [\"10.1126/science.1179052\"]\n",
    "#ds_name = 'DOI_cited_science_1179052_retracted'\n",
    "\n",
    "%store -r DOI_list\n",
    "%store -r ds_name\n",
    "\n",
    "analysis_path = os.path.join(data_path, 'analysis')\n",
    "citing_tsv = os.path.join(analysis_path, '%s.tsv' % ds_name)\n",
    "citing_prep_tsv = os.path.join(analysis_path, '%s_prep.tsv' % ds_name)"
   ]
  },
  {
   "cell_type": "markdown",
   "metadata": {},
   "source": [
    "# Find papers in FTP_PUBMED citing these DOIs"
   ]
  },
  {
   "cell_type": "code",
   "execution_count": 8,
   "metadata": {
    "collapsed": true
   },
   "outputs": [
    {
     "name": "stdout",
     "output_type": "stream",
     "text": [
      "10.1126/science.1179052\n",
      "data/FTP_PUBMED_papers/comm_use.A-B.xml.tar.gz\n"
     ]
    },
    {
     "ename": "KeyboardInterrupt",
     "evalue": "",
     "output_type": "error",
     "traceback": [
      "\u001b[0;31m---------------------------------------------------------------------------\u001b[0m",
      "\u001b[0;31mKeyboardInterrupt\u001b[0m                         Traceback (most recent call last)",
      "\u001b[0;32m<ipython-input-8-6e286e2e7aff>\u001b[0m in \u001b[0;36m<module>\u001b[0;34m()\u001b[0m\n\u001b[1;32m     18\u001b[0m             DOI_cited_in_bytes = subprocess.check_output(\n\u001b[1;32m     19\u001b[0m                 \u001b[0mcommand\u001b[0m\u001b[0;34m,\u001b[0m\u001b[0;34m\u001b[0m\u001b[0m\n\u001b[0;32m---> 20\u001b[0;31m                 \u001b[0mstderr\u001b[0m\u001b[0;34m=\u001b[0m\u001b[0msubprocess\u001b[0m\u001b[0;34m.\u001b[0m\u001b[0mSTDOUT\u001b[0m\u001b[0;34m\u001b[0m\u001b[0m\n\u001b[0m\u001b[1;32m     21\u001b[0m             )\n\u001b[1;32m     22\u001b[0m             \u001b[0mDOI_cited_in\u001b[0m \u001b[0;34m=\u001b[0m \u001b[0mDOI_cited_in\u001b[0m \u001b[0;34m+\u001b[0m \u001b[0;34m\" \"\u001b[0m \u001b[0;34m+\u001b[0m \u001b[0mDOI_cited_in_bytes\u001b[0m\u001b[0;34m.\u001b[0m\u001b[0mdecode\u001b[0m\u001b[0;34m(\u001b[0m\u001b[0;34m\"utf-8\"\u001b[0m\u001b[0;34m)\u001b[0m \u001b[0;31m# conver bytes into strings\u001b[0m\u001b[0;34m\u001b[0m\u001b[0m\n",
      "\u001b[0;32m/opt/anaconda/envs/Python3/lib/python3.6/subprocess.py\u001b[0m in \u001b[0;36mcheck_output\u001b[0;34m(timeout, *popenargs, **kwargs)\u001b[0m\n\u001b[1;32m    334\u001b[0m \u001b[0;34m\u001b[0m\u001b[0m\n\u001b[1;32m    335\u001b[0m     return run(*popenargs, stdout=PIPE, timeout=timeout, check=True,\n\u001b[0;32m--> 336\u001b[0;31m                **kwargs).stdout\n\u001b[0m\u001b[1;32m    337\u001b[0m \u001b[0;34m\u001b[0m\u001b[0m\n\u001b[1;32m    338\u001b[0m \u001b[0;34m\u001b[0m\u001b[0m\n",
      "\u001b[0;32m/opt/anaconda/envs/Python3/lib/python3.6/subprocess.py\u001b[0m in \u001b[0;36mrun\u001b[0;34m(input, timeout, check, *popenargs, **kwargs)\u001b[0m\n\u001b[1;32m    403\u001b[0m     \u001b[0;32mwith\u001b[0m \u001b[0mPopen\u001b[0m\u001b[0;34m(\u001b[0m\u001b[0;34m*\u001b[0m\u001b[0mpopenargs\u001b[0m\u001b[0;34m,\u001b[0m \u001b[0;34m**\u001b[0m\u001b[0mkwargs\u001b[0m\u001b[0;34m)\u001b[0m \u001b[0;32mas\u001b[0m \u001b[0mprocess\u001b[0m\u001b[0;34m:\u001b[0m\u001b[0;34m\u001b[0m\u001b[0m\n\u001b[1;32m    404\u001b[0m         \u001b[0;32mtry\u001b[0m\u001b[0;34m:\u001b[0m\u001b[0;34m\u001b[0m\u001b[0m\n\u001b[0;32m--> 405\u001b[0;31m             \u001b[0mstdout\u001b[0m\u001b[0;34m,\u001b[0m \u001b[0mstderr\u001b[0m \u001b[0;34m=\u001b[0m \u001b[0mprocess\u001b[0m\u001b[0;34m.\u001b[0m\u001b[0mcommunicate\u001b[0m\u001b[0;34m(\u001b[0m\u001b[0minput\u001b[0m\u001b[0;34m,\u001b[0m \u001b[0mtimeout\u001b[0m\u001b[0;34m=\u001b[0m\u001b[0mtimeout\u001b[0m\u001b[0;34m)\u001b[0m\u001b[0;34m\u001b[0m\u001b[0m\n\u001b[0m\u001b[1;32m    406\u001b[0m         \u001b[0;32mexcept\u001b[0m \u001b[0mTimeoutExpired\u001b[0m\u001b[0;34m:\u001b[0m\u001b[0;34m\u001b[0m\u001b[0m\n\u001b[1;32m    407\u001b[0m             \u001b[0mprocess\u001b[0m\u001b[0;34m.\u001b[0m\u001b[0mkill\u001b[0m\u001b[0;34m(\u001b[0m\u001b[0;34m)\u001b[0m\u001b[0;34m\u001b[0m\u001b[0m\n",
      "\u001b[0;32m/opt/anaconda/envs/Python3/lib/python3.6/subprocess.py\u001b[0m in \u001b[0;36mcommunicate\u001b[0;34m(self, input, timeout)\u001b[0m\n\u001b[1;32m    823\u001b[0m                 \u001b[0mself\u001b[0m\u001b[0;34m.\u001b[0m\u001b[0m_stdin_write\u001b[0m\u001b[0;34m(\u001b[0m\u001b[0minput\u001b[0m\u001b[0;34m)\u001b[0m\u001b[0;34m\u001b[0m\u001b[0m\n\u001b[1;32m    824\u001b[0m             \u001b[0;32melif\u001b[0m \u001b[0mself\u001b[0m\u001b[0;34m.\u001b[0m\u001b[0mstdout\u001b[0m\u001b[0;34m:\u001b[0m\u001b[0;34m\u001b[0m\u001b[0m\n\u001b[0;32m--> 825\u001b[0;31m                 \u001b[0mstdout\u001b[0m \u001b[0;34m=\u001b[0m \u001b[0mself\u001b[0m\u001b[0;34m.\u001b[0m\u001b[0mstdout\u001b[0m\u001b[0;34m.\u001b[0m\u001b[0mread\u001b[0m\u001b[0;34m(\u001b[0m\u001b[0;34m)\u001b[0m\u001b[0;34m\u001b[0m\u001b[0m\n\u001b[0m\u001b[1;32m    826\u001b[0m                 \u001b[0mself\u001b[0m\u001b[0;34m.\u001b[0m\u001b[0mstdout\u001b[0m\u001b[0;34m.\u001b[0m\u001b[0mclose\u001b[0m\u001b[0;34m(\u001b[0m\u001b[0;34m)\u001b[0m\u001b[0;34m\u001b[0m\u001b[0m\n\u001b[1;32m    827\u001b[0m             \u001b[0;32melif\u001b[0m \u001b[0mself\u001b[0m\u001b[0;34m.\u001b[0m\u001b[0mstderr\u001b[0m\u001b[0;34m:\u001b[0m\u001b[0;34m\u001b[0m\u001b[0m\n",
      "\u001b[0;31mKeyboardInterrupt\u001b[0m: "
     ]
    }
   ],
   "source": [
    "if not os.path.isdir(FTP_PUBMED_papers):\n",
    "    raise RuntimeError('%s does not exist, did you download the data?' % FTP_PUBMED_papers)\n",
    "\n",
    "os.makedirs(analysis_path, exist_ok=True)\n",
    "\n",
    "if os.path.isfile(citing_tsv):\n",
    "    os.remove(citing_tsv)\n",
    "\n",
    "for doi_index, DOI in enumerate(DOI_list):\n",
    "    print(DOI)\n",
    "    DOI_cited_in  = \" \"\n",
    "    for filename in sorted(glob.glob(FTP_PUBMED_papers + '/*')):\n",
    "        if not os.path.isfile(filename):\n",
    "            continue\n",
    "        print('%s' % filename)\n",
    "        command = [\"zgrep\", \"-a\", DOI, filename]\n",
    "        try:\n",
    "            DOI_cited_in_bytes = subprocess.check_output(\n",
    "                command,\n",
    "                stderr=subprocess.STDOUT\n",
    "            )\n",
    "            DOI_cited_in = DOI_cited_in + \" \" + DOI_cited_in_bytes.decode(\"utf-8\") # conver bytes into strings\n",
    "\n",
    "        except subprocess.CalledProcessError as e:\n",
    "            if e.returncode == 1 and not e.output:\n",
    "                # assume it just didn't find anything\n",
    "                pass\n",
    "            else:\n",
    "                print(\"Subprocess output:\", e.output)\n",
    "                raise RuntimeError(\n",
    "                    'non-zero exit status %d for command %s' % (e.returncode, command)\n",
    "                )\n",
    "    \n",
    "    list_articles_citing = []\n",
    "    DOI_cited_in_BS = BeautifulSoup(DOI_cited_in, \"lxml\")\n",
    "    for article in DOI_cited_in_BS.prettify().split('</article>'):\n",
    "        # Not all the articles start or finish with this tag.\n",
    "        article_BS = BeautifulSoup(article, \"lxml\")\n",
    "        for article2 in article_BS.prettify().split('</back>'):\n",
    "            # To remove spliting of some end-tags\n",
    "            if (DOI in article2) and (len(str(article2)) > 800):\n",
    "                list_articles_citing.append(article2)\n",
    "\n",
    "    if not list_articles_citing:\n",
    "        # When analysing a list of DOIs this raise RuntimeError you loose all the work previously done\n",
    "        #raise RuntimeError('no articles matching criteria found')\n",
    "        print(\"No articles found citing \", DOI)\n",
    "        \n",
    "    df2 = pd.DataFrame([\n",
    "        [DOI, article_citing]\n",
    "        for article_citing in list_articles_citing\n",
    "    ], columns=['DOI_cited', 'article_citing'])\n",
    "\n",
    "    df2.to_csv(\n",
    "        citing_tsv,\n",
    "        header=doi_index == 0,\n",
    "        index=False,\n",
    "        mode='w' if doi_index == 0 else 'a',\n",
    "        sep='\\t',\n",
    "        encoding='utf-8'\n",
    "    )\n",
    "    print(\"Data saved to\", citing_tsv)"
   ]
  },
  {
   "cell_type": "markdown",
   "metadata": {},
   "source": [
    "# Checking files"
   ]
  },
  {
   "cell_type": "code",
   "execution_count": 6,
   "metadata": {
    "collapsed": true
   },
   "outputs": [],
   "source": [
    "# print('Description of the list:')\n",
    "read_citing_tsv = lambda filename: pd.read_csv(\n",
    "    filename,\n",
    "    sep='\\t',\n",
    "    encoding='utf-8'\n",
    ")\n",
    "\n",
    "df_citing = read_citing_tsv(citing_tsv)\n",
    "#print(df_citing.describe())\n"
   ]
  },
  {
   "cell_type": "code",
   "execution_count": null,
   "metadata": {
    "collapsed": true
   },
   "outputs": [],
   "source": [
    "\"\"\"\n",
    "print(\"List of papers citing the DOIs found:\")\n",
    "df_citing.head()\n",
    "\"\"\""
   ]
  },
  {
   "cell_type": "code",
   "execution_count": 10,
   "metadata": {},
   "outputs": [
    {
     "name": "stdout",
     "output_type": "stream",
     "text": [
      "\n",
      " Number of papers found citing each DOI:\n",
      "10.1126/science.1179052 \t\t 43\n"
     ]
    }
   ],
   "source": [
    "print(\"\\n Number of papers found citing each DOI:\")\n",
    "for DOI in df_citing.DOI_cited.unique():\n",
    "    print(DOI, '\\t\\t', df_citing[df_citing['DOI_cited'] == DOI].shape[0])"
   ]
  },
  {
   "cell_type": "markdown",
   "metadata": {},
   "source": [
    "# Prepocessing data. Remove random spaces and store in a new file."
   ]
  },
  {
   "cell_type": "code",
   "execution_count": 7,
   "metadata": {},
   "outputs": [
    {
     "name": "stdout",
     "output_type": "stream",
     "text": [
      "wrote to: data/analysis/DOI_cited_science_1179052_retracted_prep.tsv\n"
     ]
    }
   ],
   "source": [
    "print(\"Preprocessing data: removing random spaces.\")\n",
    "# read the file again (for good measure)\n",
    "df_citing = read_citing_tsv(citing_tsv)\n",
    "\n",
    "# preprocess data\n",
    "df_prep = df_citing.copy()\n",
    "df_prep['article_citing'] = df_citing['article_citing'].apply(bs_preprocess.bs_preprocess)    \n",
    "\n",
    "df_prep.to_csv(citing_prep_tsv, index=False, sep='\\t', encoding='utf-8')\n",
    "print(\"wrote to:\", citing_prep_tsv)"
   ]
  }
 ],
 "metadata": {
  "kernelspec": {
   "display_name": "Python [default]",
   "language": "python",
   "name": "python3"
  },
  "language_info": {
   "codemirror_mode": {
    "name": "ipython",
    "version": 3
   },
   "file_extension": ".py",
   "mimetype": "text/x-python",
   "name": "python",
   "nbconvert_exporter": "python",
   "pygments_lexer": "ipython3",
   "version": "3.6.2"
  }
 },
 "nbformat": 4,
 "nbformat_minor": 2
}
