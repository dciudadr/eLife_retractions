{
 "cells": [
  {
   "cell_type": "markdown",
   "metadata": {
    "collapsed": true
   },
   "source": [
    "# Joining information from different files to be analysed together."
   ]
  },
  {
   "cell_type": "code",
   "execution_count": 78,
   "metadata": {
    "collapsed": true
   },
   "outputs": [],
   "source": [
    "%matplotlib inline"
   ]
  },
  {
   "cell_type": "code",
   "execution_count": 79,
   "metadata": {
    "collapsed": true
   },
   "outputs": [],
   "source": [
    "import os\n",
    "import sys\n",
    "import re\n",
    "import pandas as pd\n",
    "import nltk\n",
    "import matplotlib.pylab as plt\n",
    "from matplotlib.ticker import FuncFormatter\n",
    "\n",
    "sys.path.insert(0, \"./modules\")\n",
    "import bs_preprocess\n",
    "import get_df_analise_section"
   ]
  },
  {
   "cell_type": "markdown",
   "metadata": {},
   "source": [
    "# Configuration"
   ]
  },
  {
   "cell_type": "code",
   "execution_count": 80,
   "metadata": {
    "collapsed": true
   },
   "outputs": [],
   "source": [
    "data_path = 'data'\n",
    "\n",
    "#'DOI_cited_science_1179052_retracted'\n",
    "%store -r ds_name\n",
    "ds_label = ds_name\n",
    "\n",
    "analysis_path = os.path.join(data_path, 'analysis')\n",
    "\n",
    "# In\n",
    "citing_tsv = os.path.join(analysis_path, '%s.tsv' % ds_name)\n",
    "citing_prep_tsv = os.path.join(analysis_path, '%s_prep.tsv' % ds_name)\n",
    "\n",
    "# Out\n",
    "citing_sections_tsv = os.path.join(analysis_path, '%s_sections.tsv' % ds_name)\n",
    "analysis_hist_tsv = os.path.join(analysis_path, '%s_hist.tsv' % ds_name)"
   ]
  },
  {
   "cell_type": "code",
   "execution_count": 81,
   "metadata": {
    "collapsed": true
   },
   "outputs": [],
   "source": [
    "figures_path = 'figures'\n",
    "\n",
    "%store -r ds_name\n",
    "%store -r DOI_cited_list_number \n",
    "ds_label = ds_name\n",
    "\n",
    "\n",
    "#figures_path = os.path.join(figures_path, 'analysis')\n",
    "os.makedirs(figures_path, exist_ok=True)\n",
    "\n",
    "\n",
    "# Recording figures\n",
    "figure_citation_full_list = os.path.join(figures_path, '%s_.jpg' % ds_name)\n",
    "figure_citation_1DOI  = os.path.join(figures_path, '%s_DOI_position_%s.jpg' % (ds_name, DOI_cited_list_number))                                    "
   ]
  },
  {
   "cell_type": "markdown",
   "metadata": {},
   "source": [
    "# Setup"
   ]
  },
  {
   "cell_type": "code",
   "execution_count": 82,
   "metadata": {},
   "outputs": [
    {
     "name": "stdout",
     "output_type": "stream",
     "text": [
      "[nltk_data] Downloading package punkt to /home/sherlock/nltk_data...\n",
      "[nltk_data]   Package punkt is already up-to-date!\n"
     ]
    },
    {
     "data": {
      "text/plain": [
       "True"
      ]
     },
     "execution_count": 82,
     "metadata": {},
     "output_type": "execute_result"
    }
   ],
   "source": [
    "# One time download required\n",
    "nltk.download('punkt')"
   ]
  },
  {
   "cell_type": "markdown",
   "metadata": {
    "collapsed": true
   },
   "source": [
    "# 1.- ANALYSIS\n",
    "\n",
    "•\tAnalyse file containing papers citing a particular DOI. This DOI can be read from a file (the one used in get_papers) or directly introduced in a list.\n",
    "•\tBy calling get_df_analise_section it generates a dataframe containing:\n",
    "    \n",
    "    # df['cited_DOI', 'citing_DOI', 'reference_id', 'introduction_found', \n",
    "    #   'cited_in_introduction', 'maintext_found', 'cited_in_maintext', \n",
    "    #   'discussion_found', 'cited_in_discussion', 'conclusions_found', \n",
    "    #   'cited_in_conclusions', 'sentence_citing_intro', \n",
    "    #   'sentence_citing_maintext', 'sentence_citing_discussion', \n",
    "    #   'sentence_citing_conclusions']\n",
    "    \n",
    "-\treference_id is the number of reference of the cited paper in a particular paper. \n",
    "-\t'introduction_found', 'maintext_found', 'discussion_found' and 'conclusions_found' get True/False value depending on whether a particular section has been found.\n",
    "-\t'cited_in_introduction', 'cited_in_maintext', 'cited_in_discussion', 'cited_in_conclusions' get True/False values depending on whether the paper is cited in these sections.\n",
    "-\t'sentence_citing_intro',  'sentence_citing_maintext', 'sentence_citing_discussion',    'sentence_citing_conclusions' are the sentences in each section where the paper is cited.\n",
    "\n",
    "\n",
    "•\tIt also generates another dataframe with information about how many times the paper has been cited in each section: \n",
    "\n",
    "     # dict_citation_hist ['DOI_cited', 'total_papers_citing', 'papers_all_sections_found',  \n",
    "     #   'cited_in_introduction', 'cited_in_maintext', 'cited_in_discussion', 'cited_in_conlusions']\n",
    "\n",
    "•\tIt saves the dataframes in two files. \n",
    "Note: For “df” only the information of the last paper (cited_DOI) analysed is saved \n",
    "\n",
    "\n"
   ]
  },
  {
   "cell_type": "code",
   "execution_count": 83,
   "metadata": {},
   "outputs": [
    {
     "name": "stdout",
     "output_type": "stream",
     "text": [
      "\n",
      "index in list: 0\t DOI: 10.1126/science.1179052\n",
      "Number of papers found citing the DOI:   39\n",
      "(Taking into account only those in which the code has found a particular section citing)\n",
      "Wrote to: data/analysis/DOI_cited_science_1179052_retracted_sections.tsv\n",
      "Wrote to: data/analysis/DOI_cited_science_1179052_retracted_hist.tsv\n"
     ]
    }
   ],
   "source": [
    "list_df_analysis = []\n",
    "list_citation_hist = []\n",
    "\n",
    "#DOI_list = [\"10.1126/science.1179052\"]\n",
    "%store -r DOI_list\n",
    "\n",
    "df_articles = pd.read_csv(citing_prep_tsv, sep='\\t', encoding='utf-8')\n",
    "\n",
    "\n",
    "for index, DOI in enumerate(DOI_list): \n",
    "\n",
    "    df_articles_citingDOI = df_articles[df_articles['DOI_cited'] == DOI]['article_citing']\n",
    "    list_articles_citingDOI = df_articles_citingDOI.values.tolist()\n",
    "\n",
    "    df = get_df_analise_section.get_df(DOI, list_articles_citingDOI)\n",
    "\n",
    "\n",
    "    total_papers = df.shape[0]\n",
    "    \n",
    "    # mask: the reference is found at least in one section\n",
    "    mask = ((df['cited_in_introduction'] == True) |\n",
    "             (df['cited_in_maintext'] == True) | \n",
    "             (df['cited_in_discussion'] == True) |\n",
    "             (df['cited_in_conclusions'] == True)\n",
    "            )\n",
    "     \n",
    "    print(\"\\nindex in list: \" + str(index) + \"\\t DOI: \" + str(DOI) )\n",
    "    papers_all_sections_found = df[mask].shape[0]    \n",
    "    print(\"Number of papers found citing the DOI:  \", papers_all_sections_found)\n",
    "    print(\"(Taking into account only those in which the code has found a particular section citing)\")\n",
    "\n",
    "    found_in_percentages = (df[mask][[\"cited_in_conclusions\",\n",
    "                                      \"cited_in_discussion\",\n",
    "                                      \"cited_in_introduction\",\n",
    "                                      \"cited_in_maintext\"]].sum()/ papers_all_sections_found).to_dict()\n",
    "\n",
    "    list_citation_hist.append({\n",
    "        'DOI_cited': DOI,  \n",
    "       'total_papers_citing': total_papers,\n",
    "       'papers_all_sections_found': papers_all_sections_found,\n",
    "        **{\n",
    "            k: found_in_percentages.get(k, 0)\n",
    "            for k in {'cited_in_introduction', 'cited_in_maintext', 'cited_in_discussion', 'cited_in_conclusions'}\n",
    "        }\n",
    "    })\n",
    "\n",
    "pd_citation_hist = pd.DataFrame(list_citation_hist) \n",
    "\n",
    "\n",
    "############### SAVING IN FILES #####################\n",
    "df.to_csv(citing_sections_tsv, index=False, sep='\\t', encoding='utf-8')\n",
    "print('Wrote to:', citing_sections_tsv)\n",
    "\n",
    "pd_citation_hist.to_csv(analysis_hist_tsv, index=False, sep='\\t', encoding='utf-8')\n",
    "print('Wrote to:', analysis_hist_tsv)"
   ]
  },
  {
   "cell_type": "markdown",
   "metadata": {},
   "source": [
    "# 2.- PLOT\n",
    "\n",
    "•\tPlot the analysis (file_df_analysis_hist). \n",
    "-\tFor multiple papers (used to plot the analysis of papers having the same number of citations)\n",
    "-\tJust for one.\n"
   ]
  },
  {
   "cell_type": "code",
   "execution_count": 91,
   "metadata": {},
   "outputs": [
    {
     "name": "stdout",
     "output_type": "stream",
     "text": [
      "\n",
      " DOIs with the required minimum number of citations found of 10: \n",
      "\n"
     ]
    },
    {
     "data": {
      "image/png": "[encoded data removed]",
      "text/plain": [
       "<matplotlib.figure.Figure at 0x7f6e6f49a518>"
      ]
     },
     "metadata": {},
     "output_type": "display_data"
    }
   ],
   "source": [
    "%store -r minimun_number_citations\n",
    "%store -r DOI_list\n",
    "\n",
    "\n",
    "\n",
    "DOI_list_filtered = df_articles.groupby('DOI_cited').size().pipe(\n",
    "    lambda df: df[df >= minimun_number_citations]\n",
    ").index.values\n",
    "print('\\n DOIs with the required minimum number of citations found of %d: \\n' % minimun_number_citations) #, DOI_list_filtered))\n",
    "\n",
    "\n",
    "# Reading the pd_citation_hist from file:\n",
    "pd_citation_hist = pd.read_csv(\n",
    "    analysis_hist_tsv,\n",
    "    sep='\\t',\n",
    "    encoding='utf-8'\n",
    ")\n",
    "\n",
    "pd_citation_hist_filtered = pd_citation_hist[pd_citation_hist.DOI_cited.isin(DOI_list_filtered)]\n",
    "\n",
    "if pd_citation_hist_filtered.empty == False:\n",
    "    \n",
    "    figure = (\n",
    "        pd_citation_hist_filtered\n",
    "        .set_index('DOI_cited')\n",
    "        [['cited_in_introduction', 'cited_in_maintext','cited_in_discussion', 'cited_in_conclusions']]\n",
    "        .plot(kind='bar', color = [\"#0961AB\", \"#732060\", \"#629F43\", \"#CF0C4E\"])\n",
    "    )\n",
    "    #colors_eLife = [\"#0961AB\", \"#732060\", \"#629F43\", \"#CF0C4E\", \"#0A9DD9\", \"#046535\",\"#273B81\",\"#800080\",\"#6D6E70\"]\n",
    "    #Blue 0961AB; Purple 732060; Light Green 629F43; Rubine red CF0C4E; Light blue 0A9DD9; \n",
    "    #Dark green 046535; Dark blue 273B81; brighter purple 800080; Grey 6D6E70]\n",
    "\n",
    "    if len(DOI_list) == 1:\n",
    "        plt.xticks(rotation=0, ha ='center', fontsize=14)\n",
    "    else:\n",
    "        plt.xticks(rotation=25, ha ='right', fontsize=14)\n",
    "\n",
    "    plt.xlabel(\"DOI of manuscript cited\", fontsize=14)\n",
    "    plt.ylabel(\"Proportion of citations \\n within section (%)\", fontsize=14)\n",
    "    figure.yaxis.set_major_formatter(FuncFormatter(lambda y, _: str(y * 100))) \n",
    "    plt.ylim([0, 1.0])\n",
    "    plt.yticks(rotation=0, ha ='right', fontsize=14)\n",
    "    \n",
    "    lgd = plt.legend(['Introduction', 'Main text','Discussion', 'Conclusions'], loc='upper right', bbox_to_anchor=(1.314, 1.015), ncol = 1)\n",
    "#    plt.title(ds_label)\n",
    "    plt.tight_layout()\n",
    "    plt.savefig(figure_citation_full_list, \n",
    "                bbox_extra_artists=(lgd,), \n",
    "                bbox_inches='tight',\n",
    "                dpi = 200)\n",
    "    \n",
    "    figure.spines[\"top\"].set_visible(False)    \n",
    "    figure.spines[\"bottom\"].set_visible(True)    \n",
    "    figure.spines[\"right\"].set_visible(False)    \n",
    "    figure.spines[\"left\"].set_visible(True)    \n",
    "\n",
    "    \n",
    "    plt.show()\n"
   ]
  },
  {
   "cell_type": "code",
   "execution_count": 92,
   "metadata": {
    "scrolled": true
   },
   "outputs": [
    {
     "data": {
      "text/html": [
       "<div>\n",
       "<style>\n",
       "    .dataframe thead tr:only-child th {\n",
       "        text-align: right;\n",
       "    }\n",
       "\n",
       "    .dataframe thead th {\n",
       "        text-align: left;\n",
       "    }\n",
       "\n",
       "    .dataframe tbody tr th {\n",
       "        vertical-align: top;\n",
       "    }\n",
       "</style>\n",
       "<table border=\"1\" class=\"dataframe\">\n",
       "  <thead>\n",
       "    <tr style=\"text-align: right;\">\n",
       "      <th></th>\n",
       "      <th>DOI_cited</th>\n",
       "      <th>papers_all_sections_found</th>\n",
       "      <th>total_papers_citing</th>\n",
       "    </tr>\n",
       "  </thead>\n",
       "  <tbody>\n",
       "    <tr>\n",
       "      <th>0</th>\n",
       "      <td>10.1126/science.1179052</td>\n",
       "      <td>39</td>\n",
       "      <td>43</td>\n",
       "    </tr>\n",
       "  </tbody>\n",
       "</table>\n",
       "</div>"
      ],
      "text/plain": [
       "                 DOI_cited  papers_all_sections_found  total_papers_citing\n",
       "0  10.1126/science.1179052                         39                   43"
      ]
     },
     "execution_count": 92,
     "metadata": {},
     "output_type": "execute_result"
    }
   ],
   "source": [
    "pd_citation_hist = pd.read_csv(\n",
    "    analysis_hist_tsv,\n",
    "    sep='\\t',\n",
    "    encoding='utf-8'\n",
    ")                                                              \n",
    "pd_citation_hist[['DOI_cited','papers_all_sections_found', 'total_papers_citing']]"
   ]
  },
  {
   "cell_type": "markdown",
   "metadata": {
    "collapsed": true
   },
   "source": [
    "# 3. ANALYSING AND PLOTTING JUST 1 paper"
   ]
  },
  {
   "cell_type": "code",
   "execution_count": 93,
   "metadata": {},
   "outputs": [
    {
     "name": "stdout",
     "output_type": "stream",
     "text": [
      "\n",
      "index in list: 0\t DOI: 10.1126/science.1179052\n",
      "Number of papers found citing the DOI:   39\n",
      "(Taking into account only those in which the code has found a particular section citing)\n"
     ]
    }
   ],
   "source": [
    "# List of DOIs we will study.\n",
    "# We will study manuscripts that above a certain number of citations within our dataset.\n",
    "#minimun_number_citations = 10\n",
    "#DOI_cited_list_index = 0\n",
    "\n",
    "%store -r minimun_number_citations\n",
    "%store -r DOI_cited_list_index\n",
    "\n",
    "\n",
    "if DOI_cited_list_index in range(len(DOI_list)):\n",
    "\n",
    "    DOI =  DOI_list[DOI_cited_list_index]\n",
    "\n",
    "    df_articles_citingDOI = df_articles[df_articles['DOI_cited'] == DOI]['article_citing']\n",
    "    list_articles_citingDOI = df_articles_citingDOI.values.tolist()\n",
    "\n",
    "    df = get_df_analise_section.get_df(DOI, list_articles_citingDOI)\n",
    "\n",
    "    \n",
    "    \n",
    "    \n",
    "    total_papers = df.shape[0]\n",
    "    \n",
    "    # mask: the reference is found at least in one section\n",
    "    mask = ((df['cited_in_introduction'] == True) |\n",
    "             (df['cited_in_maintext'] == True) | \n",
    "             (df['cited_in_discussion'] == True) |\n",
    "             (df['cited_in_conclusions'] == True)\n",
    "            )\n",
    "     \n",
    "    print(\"\\nindex in list: \" + str(index) + \"\\t DOI: \" + str(DOI) )\n",
    "    papers_all_sections_found = df[mask].shape[0]    \n",
    "    print(\"Number of papers found citing the DOI:  \", papers_all_sections_found)\n",
    "    print(\"(Taking into account only those in which the code has found a particular section citing)\")\n",
    "\n",
    "    found_in_percentages = (df[mask][[\"cited_in_conclusions\",\n",
    "                                      \"cited_in_discussion\",\n",
    "                                      \"cited_in_introduction\",\n",
    "                                      \"cited_in_maintext\"]].sum()/ papers_all_sections_found).to_dict()\n",
    "\n",
    "    pd_citation_hist = pd.DataFrame([{\n",
    "        'DOI_cited': DOI,  \n",
    "       'total_papers_citing': total_papers,\n",
    "       'papers_all_sections_found': papers_all_sections_found,\n",
    "        **{\n",
    "            k: found_in_percentages.get(k, 0)\n",
    "            for k in {'cited_in_introduction', 'cited_in_maintext', 'cited_in_discussion', 'cited_in_conclusions'}\n",
    "        }\n",
    "    }])\n",
    "    "
   ]
  },
  {
   "cell_type": "code",
   "execution_count": 94,
   "metadata": {},
   "outputs": [
    {
     "data": {
      "text/html": [
       "<div>\n",
       "<style>\n",
       "    .dataframe thead tr:only-child th {\n",
       "        text-align: right;\n",
       "    }\n",
       "\n",
       "    .dataframe thead th {\n",
       "        text-align: left;\n",
       "    }\n",
       "\n",
       "    .dataframe tbody tr th {\n",
       "        vertical-align: top;\n",
       "    }\n",
       "</style>\n",
       "<table border=\"1\" class=\"dataframe\">\n",
       "  <thead>\n",
       "    <tr style=\"text-align: right;\">\n",
       "      <th></th>\n",
       "      <th>DOI_cited</th>\n",
       "      <th>cited_in_conclusions</th>\n",
       "      <th>cited_in_discussion</th>\n",
       "      <th>cited_in_introduction</th>\n",
       "      <th>cited_in_maintext</th>\n",
       "      <th>papers_all_sections_found</th>\n",
       "      <th>total_papers_citing</th>\n",
       "    </tr>\n",
       "  </thead>\n",
       "  <tbody>\n",
       "    <tr>\n",
       "      <th>0</th>\n",
       "      <td>10.1126/science.1179052</td>\n",
       "      <td>0.102564</td>\n",
       "      <td>0.358974</td>\n",
       "      <td>0.538462</td>\n",
       "      <td>0.769231</td>\n",
       "      <td>39</td>\n",
       "      <td>43</td>\n",
       "    </tr>\n",
       "  </tbody>\n",
       "</table>\n",
       "</div>"
      ],
      "text/plain": [
       "                 DOI_cited  cited_in_conclusions  cited_in_discussion  \\\n",
       "0  10.1126/science.1179052              0.102564             0.358974   \n",
       "\n",
       "   cited_in_introduction  cited_in_maintext  papers_all_sections_found  \\\n",
       "0               0.538462           0.769231                         39   \n",
       "\n",
       "   total_papers_citing  \n",
       "0                   43  "
      ]
     },
     "execution_count": 94,
     "metadata": {},
     "output_type": "execute_result"
    }
   ],
   "source": [
    "pd_citation_hist"
   ]
  },
  {
   "cell_type": "code",
   "execution_count": 96,
   "metadata": {},
   "outputs": [
    {
     "data": {
      "image/png": "[encoded data removed]",
      "text/plain": [
       "<matplotlib.figure.Figure at 0x7f6e67ab7eb8>"
      ]
     },
     "metadata": {},
     "output_type": "display_data"
    }
   ],
   "source": [
    "if DOI_cited_list_index in range(len(DOI_list)):\n",
    "\n",
    "\n",
    "    figure = (\n",
    "        pd_citation_hist\n",
    "        .set_index('DOI_cited')\n",
    "        [['cited_in_introduction', 'cited_in_maintext','cited_in_discussion', 'cited_in_conclusions']]\n",
    "        .plot(kind='bar', color = [\"#0961AB\", \"#732060\", \"#629F43\", \"#CF0C4E\"])\n",
    "    )\n",
    "\n",
    "    \n",
    "    plt.ylabel\n",
    "    plt.xticks(rotation=0, ha ='center', fontsize=14)\n",
    "    plt.xlabel(\"DOI of manuscript cited\", fontsize=14)\n",
    "    plt.yticks(rotation=0, ha ='right', fontsize=14)\n",
    "    plt.ylabel(\"Proportion of citations \\n within section (%)\", fontsize=14)\n",
    "\n",
    "\n",
    "    figure.spines[\"top\"].set_visible(False)    \n",
    "    figure.spines[\"bottom\"].set_visible(True)    \n",
    "    figure.spines[\"right\"].set_visible(False)    \n",
    "    figure.spines[\"left\"].set_visible(True)    \n",
    "\n",
    "\n",
    "    figure.yaxis.set_major_formatter(FuncFormatter(lambda y, _: str(int(y * 100)))) \n",
    "\n",
    "    #plt.ylim([0, 1])\n",
    "    lgd = plt.legend(\n",
    "        ['Introduction', 'Main text','Discussion', 'Conclusions'],\n",
    "        #loc='upper right',\n",
    "        #bbox_to_anchor=(1.013, 1.017),\n",
    "        #ncol=2\n",
    "    )\n",
    "\n",
    "    \n",
    "    \n",
    "    \n",
    "    #plt.figure(figsize = (10,10))\n",
    "    \n",
    "    plt.savefig(figure_citation_1DOI, \n",
    "                bbox_extra_artists=(lgd,), \n",
    "                bbox_inches='tight',\n",
    "                dpi = 200)\n",
    "    plt.show()"
   ]
  },
  {
   "cell_type": "code",
   "execution_count": null,
   "metadata": {
    "collapsed": true
   },
   "outputs": [],
   "source": []
  }
 ],
 "metadata": {
  "kernelspec": {
   "display_name": "Python [default]",
   "language": "python",
   "name": "python3"
  },
  "language_info": {
   "codemirror_mode": {
    "name": "ipython",
    "version": 3
   },
   "file_extension": ".py",
   "mimetype": "text/x-python",
   "name": "python",
   "nbconvert_exporter": "python",
   "pygments_lexer": "ipython3",
   "version": "3.6.4"
  }
 },
 "nbformat": 4,
 "nbformat_minor": 2
}
