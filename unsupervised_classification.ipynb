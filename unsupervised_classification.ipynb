{
 "cells": [
  {
   "cell_type": "code",
   "execution_count": 92,
   "metadata": {},
   "outputs": [],
   "source": [
    "%store -r df"
   ]
  },
  {
   "cell_type": "markdown",
   "metadata": {},
   "source": [
    " # Unsupervised Classification"
   ]
  },
  {
   "cell_type": "code",
   "execution_count": 93,
   "metadata": {},
   "outputs": [],
   "source": [
    "import matplotlib.pyplot as plt\n",
    "import numpy as np\n",
    "import pandas as pd\n",
    "\n",
    "from sklearn.feature_extraction.text import TfidfVectorizer\n",
    "\n",
    "# Get Vader data for sentiment analysis\n",
    "import nltk\n",
    "#nltk.download('vader_lexicon') \n",
    "\n",
    "# dictionary of colours for making nice plots later\n",
    "COLOURS = {'after': '#E91D0E', 'before': '#00A6EF'}\n",
    "\n",
    "%matplotlib inline\n",
    "\n"
   ]
  },
  {
   "cell_type": "code",
   "execution_count": 103,
   "metadata": {},
   "outputs": [],
   "source": [
    "import seaborn as sns\n",
    "\n",
    "def scatter(x, colors):\n",
    "    f = plt.figure(figsize=(8, 8))\n",
    "    ax = plt.subplot(aspect='equal')\n",
    "    ax.scatter(x[(colors==0),0], x[(colors==0),1], c=COLOURS['after'], label='after', alpha=0.5)\n",
    "    ax.scatter(x[(colors==1),0], x[(colors==1),1], c=COLOURS['before'], label='before', alpha=0.5)\n",
    "    ax.axes.get_yaxis().set_visible(False)\n",
    "    ax.axes.get_xaxis().set_visible(False)\n",
    "    plt.legend()\n",
    "    \n",
    "    return f, ax\n",
    "\n",
    "\n",
    "\n",
    "sample_before = df.loc[df['before_retraction'] == 1, ['sentences_citing', 'before_retraction']]#.sample(500)\n",
    "sample_after = df.loc[df['before_retraction'] == 0, ['sentences_citing', 'before_retraction']]#.sample(500)\n",
    "sample = sample_before.append(sample_after)\n",
    "\n",
    "tfidf_vectorizer = TfidfVectorizer(stop_words='english', max_features=10000)\n",
    "tfidf_vectors = tfidf_vectorizer.fit_transform(sample['sentences_citing'])"
   ]
  },
  {
   "cell_type": "code",
   "execution_count": 104,
   "metadata": {},
   "outputs": [
    {
     "data": {
      "text/plain": [
       "(31, 2)"
      ]
     },
     "execution_count": 104,
     "metadata": {},
     "output_type": "execute_result"
    }
   ],
   "source": [
    "sample_after.shape"
   ]
  },
  {
   "cell_type": "markdown",
   "metadata": {},
   "source": [
    "# PCA"
   ]
  },
  {
   "cell_type": "code",
   "execution_count": 105,
   "metadata": {},
   "outputs": [
    {
     "data": {
      "text/plain": [
       "array([-3.58056703e-01, -6.17864788e-02, -6.94954539e-02,  7.65260140e-02,\n",
       "       -1.80995510e-01,  2.23694629e-01,  1.43042645e-01, -6.68468111e-02,\n",
       "       -2.20100844e-01,  1.83038720e-02,  2.59384744e-01,  3.93648954e-01,\n",
       "        1.42233804e-01, -4.11088217e-02, -1.15128348e-01, -2.29113474e-01,\n",
       "        7.19443275e-02, -1.76372536e-02, -1.12860916e-01, -5.16961234e-02,\n",
       "       -9.75016984e-02,  1.00310448e-01,  1.37177907e-01, -1.45800489e-02,\n",
       "        4.40938043e-02,  2.23111671e-01,  7.89289558e-02,  1.26393374e-01,\n",
       "        4.05623205e-01, -2.71344423e-01,  2.91646988e-01, -6.98027238e-02,\n",
       "       -1.02311425e-01,  5.04244536e-03, -3.16718196e-02,  8.67361738e-17,\n",
       "        2.34187669e-16, -3.46944695e-17,  8.15320034e-17, -1.08420217e-16,\n",
       "       -2.12503626e-17,  8.15320034e-17,  2.08166817e-17, -1.73472348e-18,\n",
       "        6.24500451e-17,  3.46944695e-18,  1.01047642e-16, -7.82793969e-17,\n",
       "       -3.46944695e-17,  7.11236625e-17,  6.24500451e-17, -6.93889390e-18,\n",
       "        2.42861287e-17,  1.99493200e-17,  2.60208521e-18, -6.93889390e-18,\n",
       "       -5.20417043e-18,  1.04083409e-17, -1.69135539e-17,  4.16333634e-17,\n",
       "        1.18394877e-16,  7.11236625e-17])"
      ]
     },
     "execution_count": 105,
     "metadata": {},
     "output_type": "execute_result"
    }
   ],
   "source": [
    "pca_vectors[1]"
   ]
  },
  {
   "cell_type": "code",
   "execution_count": 106,
   "metadata": {},
   "outputs": [
    {
     "data": {
      "text/plain": [
       "(<matplotlib.figure.Figure at 0x7f4d5aad95c0>,\n",
       " <matplotlib.axes._subplots.AxesSubplot at 0x7f4d5a333be0>)"
      ]
     },
     "execution_count": 106,
     "metadata": {},
     "output_type": "execute_result"
    },
    {
     "data": {
      "image/png": "[encoded data removed]",
      "text/plain": [
       "<matplotlib.figure.Figure at 0x7f4d5aad95c0>"
      ]
     },
     "metadata": {},
     "output_type": "display_data"
    }
   ],
   "source": [
    "from sklearn.decomposition import PCA\n",
    "\n",
    "pca = PCA()\n",
    "pca.fit(tfidf_vectors.toarray())\n",
    "\n",
    "pca_vectors = pca.transform(tfidf_vectors.toarray())\n",
    "\n",
    "scatter(pca_vectors, sample['before_retraction'])"
   ]
  },
  {
   "cell_type": "markdown",
   "metadata": {},
   "source": [
    "# t-SNE"
   ]
  },
  {
   "cell_type": "code",
   "execution_count": 107,
   "metadata": {},
   "outputs": [
    {
     "data": {
      "text/plain": [
       "(<matplotlib.figure.Figure at 0x7f4d50f41320>,\n",
       " <matplotlib.axes._subplots.AxesSubplot at 0x7f4d50c9bba8>)"
      ]
     },
     "execution_count": 107,
     "metadata": {},
     "output_type": "execute_result"
    },
    {
     "data": {
      "image/png": "[encoded data removed]",
      "text/plain": [
       "<matplotlib.figure.Figure at 0x7f4d50f41320>"
      ]
     },
     "metadata": {},
     "output_type": "display_data"
    }
   ],
   "source": [
    "from sklearn.manifold import TSNE\n",
    "\n",
    "# we have suggested some parameters below, feel free to experiment\n",
    "tsne = TSNE(perplexity = 800, random_state = 42)\n",
    "\n",
    "tsne_vectors = tsne.fit_transform(tfidf_vectors.toarray())\n",
    "\n",
    "scatter(tsne_vectors, sample[\"before_retraction\"])"
   ]
  },
  {
   "cell_type": "code",
   "execution_count": null,
   "metadata": {},
   "outputs": [],
   "source": []
  },
  {
   "cell_type": "code",
   "execution_count": null,
   "metadata": {},
   "outputs": [],
   "source": []
  }
 ],
 "metadata": {
  "kernelspec": {
   "display_name": "Python [conda env:Python3]",
   "language": "python",
   "name": "conda-env-Python3-py"
  },
  "language_info": {
   "codemirror_mode": {
    "name": "ipython",
    "version": 3
   },
   "file_extension": ".py",
   "mimetype": "text/x-python",
   "name": "python",
   "nbconvert_exporter": "python",
   "pygments_lexer": "ipython3",
   "version": "3.6.4"
  }
 },
 "nbformat": 4,
 "nbformat_minor": 2
}
