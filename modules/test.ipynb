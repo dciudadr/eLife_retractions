{
 "cells": [
  {
   "cell_type": "code",
   "execution_count": null,
   "metadata": {},
   "outputs": [],
   "source": [
    "#for index, row in df.iterrows():\n",
    "\n",
    "\"\"\"\n",
    "df[['sentence_citing_conclusions',\n",
    "       'sentence_citing_discussion', 'sentence_citing_intro',\n",
    "       'sentence_citing_maintext']]\n",
    "\"\"\"\n",
    "\n",
    "def remove_citations(text):\n",
    "    \n",
    "    number_citations = text.count(\"[\")\n",
    "    \n",
    "    while number_citations > 0:\n",
    "        init = text.find(\"[\") \n",
    "        end = text.find(\"]\") \n",
    "        text = text.replace(text[init : end +1 ], \" \") # replace the string between two delimiters\n",
    "    return text\n",
    "    \n",
    "\n",
    "for index, row in df.iterrows():\n",
    "    list_sentences_citing_conclusions = row['sentence_citing_conclusions']\n",
    "    list_sentences_citing_discussion = row['sentence_citing_discussion']\n",
    "    list_sentences_citing_intro = row['sentence_citing_intro']\n",
    "    list_sentences_citing_maintext = row['sentence_citing_maintext']\n",
    "    \n",
    "    if list_sentences_citing_conclusions != None:\n",
    "        sentences_maintext = \" \".join(list_sentences_citing_conclusions)\n",
    "        sentences_maintext = remove_citations(sentences_maintext)\n",
    "    else:\n",
    "        sentences_maintext = \"\"\n",
    "    if list_sentences_citing_discussion != None:\n",
    "        sentences_discussion = \" \".join(list_sentences_citing_discussion)\n",
    "        sentences_discussion = remove_citations(sentences_discussion)\n",
    "    else:\n",
    "        sentences_discussion = \"\"\n",
    "    if list_sentences_citing_intro != None:\n",
    "        sentences_intro = \" \".join(list_sentences_citing_intro)\n",
    "        sentences_intro = remove_citations(sentences_intro)\n",
    "    else:\n",
    "        sentences_intro = \"\"\n",
    "\n",
    "    if list_sentences_citing_maintext != None:\n",
    "        sentences_maintext = \" \".join(list_sentences_citing_maintext)\n",
    "        sentences_maintext = remove_citations(sentences_maintext)\n",
    "    else:\n",
    "        sentences_maintext = \"\"\n",
    "\n",
    "    all_sentences = (sentences_maintext + \" \" + \n",
    "                     sentences_discussion + \" \" +\n",
    "                     sentences_intro + \" \" +\n",
    "                     sentences_maintext)\n",
    "    \n",
    "\n",
    "print(all_sentences)\n",
    "    "
   ]
  },
  {
   "cell_type": "code",
   "execution_count": 75,
   "metadata": {},
   "outputs": [
    {
     "name": "stdout",
     "output_type": "stream",
     "text": [
      "------------ [(4, 'manzana'), (3, 'pear'), (6, 'uvas'), (1, 'banana'), (2, 'grapes'), (5, 'platano')]\n"
     ]
    }
   ],
   "source": [
    "my_list = ['apple', 'banana', 'grapes', 'pear',\"manzana\", \"platano\", \"uvas\"]\n",
    "enu = enumerate(my_list)\n",
    "lista = list(enu)\n",
    "   \n",
    "index = (1,3,4)\n",
    "\n",
    "lista2 = []\n",
    "for x in index:\n",
    "    y = lista[x:x+3]\n",
    "    #print(y)\n",
    "    lista2 = lista2 + y\n",
    "lista_without_repetitions = list(set(lista2))\n",
    "print(\"------------\", lista_without_repetitions)\n",
    "\n",
    "#lista2\n",
    "#for (c, value) in lista:\n",
    "#    print(lista[c][1])\n",
    "#a = [print(\"---\", lista[x][1]) for x in index]"
   ]
  },
  {
   "cell_type": "code",
   "execution_count": 79,
   "metadata": {},
   "outputs": [
    {
     "data": {
      "text/plain": [
       "7"
      ]
     },
     "execution_count": 79,
     "metadata": {},
     "output_type": "execute_result"
    }
   ],
   "source": [
    "len(lista)\n"
   ]
  },
  {
   "cell_type": "code",
   "execution_count": 54,
   "metadata": {},
   "outputs": [
    {
     "data": {
      "text/plain": [
       "[(2, 'grapes'), (3, 'pear')]"
      ]
     },
     "execution_count": 54,
     "metadata": {},
     "output_type": "execute_result"
    }
   ],
   "source": [
    "lista[2:4]"
   ]
  },
  {
   "cell_type": "code",
   "execution_count": 24,
   "metadata": {},
   "outputs": [
    {
     "data": {
      "text/plain": [
       "[(0, 'apple'), (1, 'banana'), (2, 'grapes'), (3, 'pear')]"
      ]
     },
     "execution_count": 24,
     "metadata": {},
     "output_type": "execute_result"
    }
   ],
   "source": [
    "lista = list(enu)\n",
    "lista"
   ]
  },
  {
   "cell_type": "code",
   "execution_count": 26,
   "metadata": {},
   "outputs": [
    {
     "data": {
      "text/plain": [
       "[(0, 'apple'), (1, 'banana'), (2, 'grapes'), (3, 'pear')]"
      ]
     },
     "execution_count": 26,
     "metadata": {},
     "output_type": "execute_result"
    }
   ],
   "source": [
    "lista"
   ]
  },
  {
   "cell_type": "code",
   "execution_count": 27,
   "metadata": {},
   "outputs": [
    {
     "data": {
      "text/plain": [
       "[]"
      ]
     },
     "execution_count": 27,
     "metadata": {},
     "output_type": "execute_result"
    }
   ],
   "source": [
    "list(enu)"
   ]
  },
  {
   "cell_type": "code",
   "execution_count": null,
   "metadata": {},
   "outputs": [],
   "source": []
  }
 ],
 "metadata": {
  "kernelspec": {
   "display_name": "Python [conda env:Python3]",
   "language": "python",
   "name": "conda-env-Python3-py"
  },
  "language_info": {
   "codemirror_mode": {
    "name": "ipython",
    "version": 3
   },
   "file_extension": ".py",
   "mimetype": "text/x-python",
   "name": "python",
   "nbconvert_exporter": "python",
   "pygments_lexer": "ipython3",
   "version": "3.6.4"
  }
 },
 "nbformat": 4,
 "nbformat_minor": 2
}
