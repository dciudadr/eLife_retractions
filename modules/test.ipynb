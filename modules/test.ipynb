{
 "cells": [
  {
   "cell_type": "code",
   "execution_count": null,
   "metadata": {},
   "outputs": [],
   "source": [
    "#for index, row in df.iterrows():\n",
    "\n",
    "\"\"\"\n",
    "df[['sentence_citing_conclusions',\n",
    "       'sentence_citing_discussion', 'sentence_citing_intro',\n",
    "       'sentence_citing_maintext']]\n",
    "\"\"\"\n",
    "\n",
    "def remove_citations(text):\n",
    "    \n",
    "    number_citations = text.count(\"[\")\n",
    "    \n",
    "    while number_citations > 0:\n",
    "        init = text.find(\"[\") \n",
    "        end = text.find(\"]\") \n",
    "        text = text.replace(text[init : end +1 ], \" \") # replace the string between two delimiters\n",
    "    return text\n",
    "    \n",
    "\n",
    "for index, row in df.iterrows():\n",
    "    list_sentences_citing_conclusions = row['sentence_citing_conclusions']\n",
    "    list_sentences_citing_discussion = row['sentence_citing_discussion']\n",
    "    list_sentences_citing_intro = row['sentence_citing_intro']\n",
    "    list_sentences_citing_maintext = row['sentence_citing_maintext']\n",
    "    \n",
    "    if list_sentences_citing_conclusions != None:\n",
    "        sentences_maintext = \" \".join(list_sentences_citing_conclusions)\n",
    "        sentences_maintext = remove_citations(sentences_maintext)\n",
    "    else:\n",
    "        sentences_maintext = \"\"\n",
    "    if list_sentences_citing_discussion != None:\n",
    "        sentences_discussion = \" \".join(list_sentences_citing_discussion)\n",
    "        sentences_discussion = remove_citations(sentences_discussion)\n",
    "    else:\n",
    "        sentences_discussion = \"\"\n",
    "    if list_sentences_citing_intro != None:\n",
    "        sentences_intro = \" \".join(list_sentences_citing_intro)\n",
    "        sentences_intro = remove_citations(sentences_intro)\n",
    "    else:\n",
    "        sentences_intro = \"\"\n",
    "\n",
    "    if list_sentences_citing_maintext != None:\n",
    "        sentences_maintext = \" \".join(list_sentences_citing_maintext)\n",
    "        sentences_maintext = remove_citations(sentences_maintext)\n",
    "    else:\n",
    "        sentences_maintext = \"\"\n",
    "\n",
    "    all_sentences = (sentences_maintext + \" \" + \n",
    "                     sentences_discussion + \" \" +\n",
    "                     sentences_intro + \" \" +\n",
    "                     sentences_maintext)\n",
    "    \n",
    "\n",
    "print(all_sentences)\n",
    "    "
   ]
  }
 ],
 "metadata": {
  "kernelspec": {
   "display_name": "Python [conda env:Python3]",
   "language": "python",
   "name": "conda-env-Python3-py"
  },
  "language_info": {
   "codemirror_mode": {
    "name": "ipython",
    "version": 3
   },
   "file_extension": ".py",
   "mimetype": "text/x-python",
   "name": "python",
   "nbconvert_exporter": "python",
   "pygments_lexer": "ipython3",
   "version": "3.6.4"
  }
 },
 "nbformat": 4,
 "nbformat_minor": 2
}
