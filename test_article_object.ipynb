{
 "cells": [
  {
   "cell_type": "code",
   "execution_count": 1,
   "metadata": {},
   "outputs": [
    {
     "name": "stdout",
     "output_type": "stream",
     "text": [
      "-----------------------\n",
      "doi of a retraction note: 10.1083/jcb.20070205310112013r\n",
      "pmc: \t  \n",
      "pmid: \t  \n",
      "doi: \t 10.1083/jcb.20070205310112013r \n",
      "journal: \t  \n",
      "text: \t  \n",
      "references_dois: \t \n",
      "        Journal Title       ISSN      eISSN  Year Volume Issue Page  \\\n",
      "3005262   J Cell Biol  0021-9525  1540-8140  2013    203     2  373   \n",
      "\n",
      "                                    DOI       PMCID        PMID Manuscript Id  \\\n",
      "3005262  10.1083/jcb.20070205310112013r  PMC3812969  24165941.0           NaN   \n",
      "\n",
      "        Release Date  \n",
      "3005262         live  \n",
      "\n",
      " After getting pmc and journal. Before get_text_from_tar_file_using_pmc\n",
      "pmc: \t PMC3812969 \n",
      "pmid: \t  \n",
      "doi: \t 10.1083/jcb.20070205310112013r \n",
      "journal: \t J Cell Biol \n",
      "text: \t  \n",
      "references_dois: \t \n",
      "Checking:  /project/data/comm_use.I-N.xml.tar.gz\n",
      "Search total time =  0:01:55.754035\n",
      "Checking:  /project/data/non_comm_use.I-N.xml.tar.gz\n",
      "Article found:  J_Cell_Biol/PMC3812969.nxml\n",
      "Search total time =  0:02:36.018105\n",
      "\n",
      " After get_text_from_tar_file_using_pmc\n",
      "pmc: \t PMC3812969 \n",
      "pmid: \t  \n",
      "doi: \t 10.1083/jcb.20070205310112013r \n",
      "journal: \t J Cell Biol \n",
      "text: \t b'<!DOCTYPE article PUBLIC \"-//NLM//DTD JATS (Z39.96) Journal Archiving and Interchange DTD v1.0 20120' \n",
      "references_dois: \t \n",
      "\n",
      " After get_list_references_dois_from_text\n",
      "pmc: \t PMC3812969 \n",
      "pmid: \t  \n",
      "doi: \t 10.1083/jcb.20070205310112013r \n",
      "journal: \t J Cell Biol \n",
      "text: \t b'<!DOCTYPE article PUBLIC \"-//NLM//DTD JATS (Z39.96) Journal Archiving and Interchange DTD v1.0 20120' \n",
      "references_dois: \t ['10.1242/bio.20134671', '10.1242/bio.20136775']\n"
     ]
    }
   ],
   "source": [
    "import modules.Article_object as Article_object\n",
    "\n",
    "\n",
    "\"\"\"\n",
    "article_test = Article_object.Article_object()\n",
    "\n",
    "article_test.pmid = \"11250748\"\n",
    "\n",
    "#assert article_test.journal == \"Breast Cancer Res\"\n",
    "#assert article_test.pmc == \"PMC13902\"\n",
    "\n",
    "article_test.describe()\n",
    "\n",
    "article_test.get_pmc_and_journal_from_pmid()\n",
    "print(\"\\n After getting pmc and journal. Before get_text_from_tar_file_using_pmc\")\n",
    "article_test.describe()\n",
    "\n",
    "\n",
    "article_test.get_text_from_tar_file_using_pmc()\n",
    "print(\"\\n After get_text_from_tar_file_using_pmc\")\n",
    "article_test.describe()\n",
    "\"\"\"\n",
    "\n",
    "\n",
    "print(\"-----------------------\")\n",
    "\n",
    "\n",
    "\n",
    "article_test2 = Article_object.Article_object()\n",
    "\n",
    "print(\"doi of a retraction note: 10.1083/jcb.20070205310112013r\")\n",
    "article_test2.doi = \"10.1083/jcb.20070205310112013r\" #\"10.1242/bio.20134671\"\n",
    "\n",
    "article_test2.describe()\n",
    "\n",
    "article_test2.get_pmc_and_journal_from_doi()\n",
    "print(\"\\n After getting pmc and journal. Before get_text_from_tar_file_using_pmc\")\n",
    "article_test2.describe()\n",
    "\n",
    "\n",
    "article_test2.get_text_from_tar_file_using_pmc()\n",
    "print(\"\\n After get_text_from_tar_file_using_pmc\")\n",
    "article_test2.describe()\n",
    "\n",
    "\n",
    "article_test2.get_list_references_dois_from_text()\n",
    "print(\"\\n After get_list_references_dois_from_text\")\n",
    "article_test2.describe()\n",
    "\n",
    "\n",
    "\n"
   ]
  },
  {
   "cell_type": "code",
   "execution_count": 4,
   "metadata": {},
   "outputs": [
    {
     "data": {
      "text/plain": [
       "['10.1242/bio.20134671', '10.1242/bio.20136775']"
      ]
     },
     "execution_count": 4,
     "metadata": {},
     "output_type": "execute_result"
    }
   ],
   "source": [
    "article_test2.References_dois"
   ]
  },
  {
   "cell_type": "code",
   "execution_count": 6,
   "metadata": {},
   "outputs": [
    {
     "name": "stdout",
     "output_type": "stream",
     "text": [
      "pmc: \t PMC3812969 \n",
      "pmid: \t 24165941 \n",
      "doi: \t 10.1083/jcb.20070205310112013r \n",
      "journal: \t J Cell Biol \n",
      "text: \t b'<!DOCTYPE article PUBLIC \"-//NLM//DTD JATS (Z39.96) Journal Archiving and Interchange DTD v1.0 20120' \n",
      "references_dois: \t ['10.1242/bio.20134671', '10.1242/bio.20136775']\n"
     ]
    }
   ],
   "source": [
    "article_test2.pmid = \"24165941\"\n",
    "article_test2.describe()"
   ]
  },
  {
   "cell_type": "code",
   "execution_count": 9,
   "metadata": {},
   "outputs": [
    {
     "name": "stdout",
     "output_type": "stream",
     "text": [
      "        Journal Title ISSN      eISSN  Year Volume Issue  Page  \\\n",
      "3054834     Biol Open  NaN  2046-6390  2013      2    12  1313   \n",
      "\n",
      "                          DOI       PMCID        PMID Manuscript Id  \\\n",
      "3054834  10.1242/bio.20134671  PMC3863415  24337115.0           NaN   \n",
      "\n",
      "        Release Date  \n",
      "3054834         live  \n",
      "Checking:  /project/data/comm_use.A-B.xml.tar.gz\n",
      "Article found:  Biol_Open/PMC3863415.nxml\n",
      "Search total time =  0:01:48.068631\n"
     ]
    },
    {
     "ename": "TypeError",
     "evalue": "'str' object is not callable",
     "output_type": "error",
     "traceback": [
      "\u001b[0;31m---------------------------------------------------------------------------\u001b[0m",
      "\u001b[0;31mTypeError\u001b[0m                                 Traceback (most recent call last)",
      "\u001b[0;32m<ipython-input-9-5ffad4f54ecf>\u001b[0m in \u001b[0;36m<module>\u001b[0;34m()\u001b[0m\n\u001b[1;32m      3\u001b[0m \u001b[0marticle_cited_in_retraction\u001b[0m\u001b[0;34m.\u001b[0m\u001b[0mget_pmc_and_journal_from_doi\u001b[0m\u001b[0;34m(\u001b[0m\u001b[0;34m)\u001b[0m\u001b[0;34m\u001b[0m\u001b[0m\n\u001b[1;32m      4\u001b[0m \u001b[0marticle_cited_in_retraction\u001b[0m\u001b[0;34m.\u001b[0m\u001b[0mget_text_from_tar_file_using_pmc\u001b[0m\u001b[0;34m(\u001b[0m\u001b[0;34m)\u001b[0m\u001b[0;34m\u001b[0m\u001b[0m\n\u001b[0;32m----> 5\u001b[0;31m \u001b[0marticle_cited_in_retraction\u001b[0m\u001b[0;34m.\u001b[0m\u001b[0mreferences_dois\u001b[0m\u001b[0;34m(\u001b[0m\u001b[0;34m)\u001b[0m\u001b[0;34m\u001b[0m\u001b[0m\n\u001b[0m\u001b[1;32m      6\u001b[0m \u001b[0mprint\u001b[0m\u001b[0;34m(\u001b[0m\u001b[0;34m\"\\n\"\u001b[0m\u001b[0;34m)\u001b[0m\u001b[0;34m\u001b[0m\u001b[0m\n\u001b[1;32m      7\u001b[0m \u001b[0;34m\u001b[0m\u001b[0m\n",
      "\u001b[0;31mTypeError\u001b[0m: 'str' object is not callable"
     ]
    }
   ],
   "source": [
    "article_cited_in_retraction = Article_object.Article_object()\n",
    "article_cited_in_retraction.doi = '10.1242/bio.20134671'\n",
    "article_cited_in_retraction.get_pmc_and_journal_from_doi()\n",
    "article_cited_in_retraction.get_text_from_tar_file_using_pmc()\n"
   ]
  },
  {
   "cell_type": "code",
   "execution_count": 11,
   "metadata": {},
   "outputs": [
    {
     "name": "stdout",
     "output_type": "stream",
     "text": [
      "pmc: \t PMC3863415 \n",
      "pmid: \t  \n",
      "doi: \t 10.1242/bio.20134671 \n",
      "journal: \t Biol Open \n",
      "text: \t b'<!DOCTYPE article PUBLIC \"-//NLM//DTD JATS (Z39.96) Journal Archiving and Interchange DTD v1.0 20120' \n",
      "references_dois: \t ['10.1242/jcs.090456', '10.1091/mbc.E11-07-0633', '10.1016/j.cub.2008.09.011', '10.1016/S0092-8674(03)00938-3', '10.1126/science.289.5476.113', '10.1289/ehp.845537', '10.1016/j.ydbio.2007.09.044', '10.1016/j.bbagrm.2012.02.023', '10.1016/j.ydbio.2007.02.034', '10.1242/dev.00616', '10.1006/dbio.2000.0135', '10.1101/gad.901101', '10.1038/nrm3311', '10.1016/j.cmet.2010.04.001', '10.1016/S0092-8674(03)00929-2', '10.1016/S0092-8674(00)80657-1', '10.1016/S0896-6273(00)80701-1', '10.1038/nature05828', '10.1038/nature01296', '10.1083/jcb.200702053', '10.1016/j.devcel.2008.11.006', '10.1083/jcb.20070205310112013r', '10.1016/j.cell.2010.02.040', '10.1016/S0092-8674(00)80838-7', '10.1016/S0092-8674(01)00333-6', '10.1016/j.cell.2010.05.011', '10.1242/dev.051466', '10.1083/jcb.151.4.891', '10.1016/S0092-8674(01)00332-4', '10.1006/dbio.1998.8948', '10.1038/nprot.2006.320']\n",
      "\n",
      "\n",
      "pmc: \t PMC3863415 \n",
      "pmid: \t  \n",
      "doi: \t 10.1242/bio.20134671 \n",
      "journal: \t Biol Open \n",
      "text: \t b'<!DOCTYPE article PUBLIC \"-//NLM//DTD JATS (Z39.96) Journal Archiving and Interchange DTD v1.0 20120' \n",
      "references_dois: \t ['10.1242/jcs.090456', '10.1091/mbc.E11-07-0633', '10.1016/j.cub.2008.09.011', '10.1016/S0092-8674(03)00938-3', '10.1126/science.289.5476.113', '10.1289/ehp.845537', '10.1016/j.ydbio.2007.09.044', '10.1016/j.bbagrm.2012.02.023', '10.1016/j.ydbio.2007.02.034', '10.1242/dev.00616', '10.1006/dbio.2000.0135', '10.1101/gad.901101', '10.1038/nrm3311', '10.1016/j.cmet.2010.04.001', '10.1016/S0092-8674(03)00929-2', '10.1016/S0092-8674(00)80657-1', '10.1016/S0896-6273(00)80701-1', '10.1038/nature05828', '10.1038/nature01296', '10.1083/jcb.200702053', '10.1016/j.devcel.2008.11.006', '10.1083/jcb.20070205310112013r', '10.1016/j.cell.2010.02.040', '10.1016/S0092-8674(00)80838-7', '10.1016/S0092-8674(01)00333-6', '10.1016/j.cell.2010.05.011', '10.1242/dev.051466', '10.1083/jcb.151.4.891', '10.1016/S0092-8674(01)00332-4', '10.1006/dbio.1998.8948', '10.1038/nprot.2006.320']\n"
     ]
    }
   ],
   "source": [
    "article_cited_in_retraction.describe()\n",
    "\n",
    "article_cited_in_retraction.get_list_references_dois_from_text()\n",
    "print(\"\\n\")\n",
    "\n",
    "article_cited_in_retraction.describe()"
   ]
  },
  {
   "cell_type": "code",
   "execution_count": null,
   "metadata": {
    "collapsed": true
   },
   "outputs": [],
   "source": []
  }
 ],
 "metadata": {
  "kernelspec": {
   "display_name": "Python [conda env:Python3]",
   "language": "python",
   "name": "conda-env-Python3-py"
  },
  "language_info": {
   "codemirror_mode": {
    "name": "ipython",
    "version": 3
   },
   "file_extension": ".py",
   "mimetype": "text/x-python",
   "name": "python",
   "nbconvert_exporter": "python",
   "pygments_lexer": "ipython3",
   "version": "3.6.2"
  }
 },
 "nbformat": 4,
 "nbformat_minor": 2
}
